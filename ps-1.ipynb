{
 "cells": [
  {
   "cell_type": "code",
   "execution_count": 32,
   "metadata": {},
   "outputs": [],
   "source": [
    "import requests\n",
    "import pandas as pd\n",
    "\n",
    "# Define API headers and base URL\n",
    "API_TOKEN = \"dlWWGBsFlpygEYosHpgYpxInxBBJeWse\"\n",
    "HEADERS = {\"token\": API_TOKEN}\n",
    "BASE_URL = \"https://www.ncei.noaa.gov/cdo-web/api/v2/\""
   ]
  },
  {
   "cell_type": "code",
   "execution_count": 33,
   "metadata": {},
   "outputs": [],
   "source": [
    "def fetch_climate_data_with_tmax(dataset_id, location_id, start_date, end_date):\n",
    "    url = f\"{BASE_URL}data\"\n",
    "    params = {\n",
    "        \"datasetid\": dataset_id,\n",
    "        \"locationid\": location_id,\n",
    "        \"startdate\": start_date,\n",
    "        \"enddate\": end_date,\n",
    "        \"datatypeid\": [\"TMAX\", \"PRCP\"],  # Fetch max temperature and precipitation\n",
    "        \"units\": \"metric\",\n",
    "        \"limit\": 1000\n",
    "    }\n",
    "\n",
    "    response = requests.get(url, headers=HEADERS, params=params)\n",
    "    if response.status_code == 200:\n",
    "        data = response.json().get(\"results\", [])\n",
    "        if data:\n",
    "            return pd.DataFrame(data)\n",
    "        else:\n",
    "            print(\"No data found for the given parameters.\")\n",
    "            return pd.DataFrame()\n",
    "    else:\n",
    "        print(f\"Error {response.status_code}: {response.text}\")\n",
    "        return pd.DataFrame()"
   ]
  },
  {
   "cell_type": "code",
   "execution_count": 34,
   "metadata": {},
   "outputs": [],
   "source": [
    "# Example: Fetching daily summaries for a specific location\n",
    "dataset_id = \"GHCND\"  # Daily Summaries\n",
    "location_id = \"FIPS:37\"  # Example: North Carolina (FIPS Code)\n",
    "start_date = \"2023-12-01\"\n",
    "end_date = \"2023-12-31\""
   ]
  },
  {
   "cell_type": "code",
   "execution_count": 35,
   "metadata": {},
   "outputs": [
    {
     "name": "stdout",
     "output_type": "stream",
     "text": [
      "                  date datatype            station attributes  value\n",
      "0  2023-12-01T00:00:00     PRCP  GHCND:US1NCAG0001   ,,N,1000    0.3\n",
      "1  2023-12-01T00:00:00     PRCP  GHCND:US1NCAG0007  T,,N,0700    0.0\n",
      "2  2023-12-01T00:00:00     PRCP  GHCND:US1NCAG0008   ,,N,0700    0.0\n",
      "3  2023-12-01T00:00:00     PRCP  GHCND:US1NCAL0036   ,,N,0800    0.0\n",
      "4  2023-12-01T00:00:00     PRCP  GHCND:US1NCAL0039   ,,N,0700    0.0\n"
     ]
    }
   ],
   "source": [
    "# Fetch and process the data\n",
    "climate_data = fetch_climate_data_with_tmax(dataset_id, location_id, start_date, end_date)\n",
    "print(climate_data.head())"
   ]
  },
  {
   "cell_type": "code",
   "execution_count": 36,
   "metadata": {},
   "outputs": [
    {
     "name": "stdout",
     "output_type": "stream",
     "text": [
      "Processed Climate Metrics:\n",
      "datatype       date      PRCP       TMAX\n",
      "0        2023-12-31  0.150543  15.345614\n"
     ]
    }
   ],
   "source": [
    "# Assuming 'datatype' column contains metric types like PRCP (precipitation), TMAX (max temp), etc.\n",
    "if not climate_data.empty:\n",
    "    # Extract relevant metrics\n",
    "    climate_data['date'] = pd.to_datetime(climate_data['date'])\n",
    "    metrics = climate_data.pivot_table(\n",
    "        index='date', columns='datatype', values='value', aggfunc='mean'\n",
    "    )\n",
    "    metrics = metrics.resample('M').mean()  # Monthly averages\n",
    "    metrics.reset_index(inplace=True)\n",
    "\n",
    "    print(\"Processed Climate Metrics:\")\n",
    "    print(metrics.head())\n",
    "else:\n",
    "    print(\"No climate data fetched.\")\n"
   ]
  },
  {
   "cell_type": "code",
   "execution_count": 37,
   "metadata": {},
   "outputs": [
    {
     "name": "stdout",
     "output_type": "stream",
     "text": [
      "Projects with Final ESG Scores:\n",
      "   project_id  budget  risk  ESG_base_score  avg_temperature  precipitation  \\\n",
      "0           1   50000   0.2              70        15.345614       0.150543   \n",
      "1           2   75000   0.5              85        15.345614       0.150543   \n",
      "2           3  100000   0.3              90        15.345614       0.150543   \n",
      "\n",
      "   final_ESG_score  \n",
      "0        52.054069  \n",
      "1        62.554069  \n",
      "2        66.054069  \n"
     ]
    }
   ],
   "source": [
    "# Example: Merge project data with climate metrics\n",
    "projects = pd.DataFrame({\n",
    "    'project_id': [1, 2, 3],\n",
    "    'budget': [50000, 75000, 100000],\n",
    "    'risk': [0.2, 0.5, 0.3],\n",
    "    'ESG_base_score': [70, 85, 90]\n",
    "})\n",
    "\n",
    "# Add climate impact scores (example: average temperature, precipitation weightings)\n",
    "projects['avg_temperature'] = metrics['TMAX'].mean()  # Example: average max temp\n",
    "projects['precipitation'] = metrics['PRCP'].mean()  # Example: average precipitation\n",
    "\n",
    "# Compute final ESG score with climate metrics\n",
    "projects['final_ESG_score'] = (\n",
    "    0.7 * projects['ESG_base_score'] + \n",
    "    0.2 * projects['avg_temperature'] - \n",
    "    0.1 * projects['precipitation']\n",
    ")\n",
    "print(\"Projects with Final ESG Scores:\")\n",
    "print(projects)\n"
   ]
  },
  {
   "cell_type": "code",
   "execution_count": 38,
   "metadata": {},
   "outputs": [
    {
     "name": "stdout",
     "output_type": "stream",
     "text": [
      "Optimized Project Selection:\n",
      "   project_id  budget  risk  ESG_base_score  avg_temperature  precipitation  \\\n",
      "0           1   50000   0.2              70        15.345614       0.150543   \n",
      "1           2   75000   0.5              85        15.345614       0.150543   \n",
      "\n",
      "   final_ESG_score  selected  \n",
      "0        52.054069       1.0  \n",
      "1        62.554069       1.0  \n"
     ]
    }
   ],
   "source": [
    "from scipy.optimize import linprog\n",
    "\n",
    "# Define optimization parameters\n",
    "c = -projects['final_ESG_score']  # Negative because we're maximizing ESG impact\n",
    "A = [projects['budget']]  # Budget constraints\n",
    "b = [150000]  # Total budget available\n",
    "bounds = [(0, 1) for _ in range(len(projects))]  # Allocation can be 0 or 1\n",
    "\n",
    "# Solve the optimization problem\n",
    "result = linprog(c, A_ub=A, b_ub=b, bounds=bounds, method='highs')\n",
    "\n",
    "# Interpret results\n",
    "projects['selected'] = result.x.round()\n",
    "print(\"Optimized Project Selection:\")\n",
    "print(projects[projects['selected'] == 1])\n"
   ]
  }
 ],
 "metadata": {
  "kernelspec": {
   "display_name": "Python 3",
   "language": "python",
   "name": "python3"
  },
  "language_info": {
   "codemirror_mode": {
    "name": "ipython",
    "version": 3
   },
   "file_extension": ".py",
   "mimetype": "text/x-python",
   "name": "python",
   "nbconvert_exporter": "python",
   "pygments_lexer": "ipython3",
   "version": "3.11.4"
  }
 },
 "nbformat": 4,
 "nbformat_minor": 2
}
